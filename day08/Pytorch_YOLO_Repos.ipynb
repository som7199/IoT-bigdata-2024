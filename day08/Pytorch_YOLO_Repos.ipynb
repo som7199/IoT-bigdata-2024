{
 "cells": [
  {
   "cell_type": "markdown",
   "metadata": {},
   "source": [
    "- YOLO 리포지토리\n",
    "\t- https://github.com/ultralytics/ultralytics\n",
    "\t- https://github.com/Mukilan-Krishnakumar/Custom_YOLOv8_Object_Track\n",
    "\t- https://github.com/ai-nishikant/yolo8-quickstart\n",
    "\t- https://github.com/FubinZhang/Yolov8_Beginner_Demo\n",
    "\t- https://github.com/Jai-wei/YOLOv8-PySide6-GUI\n",
    "\t- https://github.com/shaadclt/Vehicle-Tracking-Counting-YOLOv8\n",
    "\t- https://github.com/mafazsyed/yolov8-cs2-player-recognition\n",
    "\t- https://github.com/Muhammad-Zeerak-Khan/Automatic-License-Plate-Recognition-using-YOLOv8\n",
    "\t- https://github.com/awsomedod/Computer-Vision-Soccer-Player-Detection\n",
    "\t- https://github.com/raaghavbhyana/Object_detection_Yolov8/blob/main/object_detection_Yolov8.ipynb\n",
    "\t- https://github.com/marinaredamekhael/codeclause_facedetection/blob/main/face_detection_using_yolov8.ipynb\n",
    "\t- https://github.com/derronqi/yolov8-face\n",
    "\t- https://github.com/maxsitt/insect-detect-ml\n",
    "\t- https://github.com/MuhammadMoinFaisal/FireDetectionYOLOv8\n",
    "\t- https://github.com/vietanhdev/anylabeling\n",
    "\t- https://github.com/kadirnar/segment-anything-video\n",
    "\t- https://github.com/augmentedstartups/AS-One\n",
    "\t- https://github.com/ibaiGorordo/ONNX-YOLOv8-Object-Detection\n",
    "\t- https://github.com/RizwanMunawar/yolov8-object-tracking\n",
    "\t- https://github.com/bharath5673/StrongSORT-YOLO\n",
    "\t- https://github.com/computervisioneng/train-yolov8-custom-dataset-step-by-step-guide\n",
    "\t- https://github.com/MarkusHuang/YOLOv8-DeepSort-PyQt-GUI\n",
    "\n",
    "- PyTorch 리포지토리\n",
    "\t- https://github.com/L1aoXingyu/pytorch-beginner\n",
    "\t- https://github.com/dvgodoy/PyTorchStepByStep\n",
    "\t- https://github.com/falloutdurham/beginners-pytorch-deep-learning\n",
    "\t- https://github.com/curiousily/Getting-Things-Done-with-Pytorch\n",
    "\t- https://github.com/sgugger/Deep-Learning\n",
    "\t- https://github.com/pytorch/examples\n",
    "\t- https://github.com/yunjey/pytorch-tutorial\n",
    "\t- https://github.com/phlippe/uvadlc_notebooks\n",
    "\t- https://github.com/dair-ai/ML-Notebooks\n",
    "\t- https://github.com/Lightning-AI/pytorch-lightning\n",
    "\t- https://github.com/microsoft/JARVIS\n",
    "\t- https://github.com/loudinthecloud/pytorch-ntm"
   ]
  }
 ],
 "metadata": {
  "language_info": {
   "name": "python"
  }
 },
 "nbformat": 4,
 "nbformat_minor": 2
}
